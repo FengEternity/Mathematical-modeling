{
 "cells": [
  {
   "cell_type": "code",
   "execution_count": 11,
   "metadata": {
    "collapsed": true
   },
   "outputs": [
    {
     "name": "stdout",
     "output_type": "stream",
     "text": [
      "     fun: -135.6428571411863\n",
      "     jac: array([7.62939453e-06, 0.00000000e+00, 3.81469727e-06])\n",
      " message: 'Optimization terminated successfully.'\n",
      "    nfev: 152\n",
      "     nit: 6\n",
      "    njev: 38\n",
      "  status: 0\n",
      " success: True\n",
      "       x: array([-214.2844239 , -400.00073896, -333.33253488])\n"
     ]
    },
    {
     "name": "stderr",
     "output_type": "stream",
     "text": [
      "C:\\ProgramData\\Anaconda3\\lib\\site-packages\\scipy\\optimize\\_minimize.py:538: RuntimeWarning: Method CG cannot handle constraints nor bounds.\n",
      "  warn('Method %s cannot handle constraints nor bounds.' % method,\n"
     ]
    }
   ],
   "source": [
    "# 使用scipy求解\n",
    "from scipy.optimize import minimize\n",
    "import numpy as np\n",
    "\n",
    "def func(x):\n",
    "    return 10.5+0.3*x[0]+0.32*x[1]+0.3*x[2]+0.0007*x[0]**2+0.0004*x[1]**2+0.00045*x[2]**2\n",
    "\n",
    "cons = ({'type': 'eq','func':lambda x:x[0]+x[1]+x[2]-700})\n",
    "b1,b2,b3=(100,200),(120,250),(150,300)\n",
    "x0 = np.array([100,200,400])\n",
    "res = minimize(func,x0,method='CG',bounds=(b1,b2,b3),constraints=cons)\n",
    "print(res)"
   ]
  },
  {
   "cell_type": "code",
   "execution_count": 6,
   "outputs": [
    {
     "name": "stdout",
     "output_type": "stream",
     "text": [
      "best_x: [182.38881396 231.14114769 286.47003834] \n",
      " best_y: [306.70857793]\n"
     ]
    }
   ],
   "source": [
    "# 使用遗传算法\n",
    "from sko.GA import GA\n",
    "\n",
    "def func(x):\n",
    "    return 10.5+0.3*x[0]+0.32*x[1]+0.3*x[2]+0.0007*x[0]**2+0.0004*x[1]**2+0.00045*x[2]**2\n",
    "\n",
    "cons = lambda x:x[0]+x[1]+x[2]-700\n",
    "b1,b2,b3=(100,200),(120,250),(150,300)\n",
    "ga = GA(func=func,n_dim=3,size_pop=500,max_iter=1000,constraint_eq=[cons],lb=[100,120,150],ub=[200,250,300])\n",
    "best_x,best_y = ga.run()\n",
    "print('best_x:',best_x,'\\n','best_y:',best_y)"
   ],
   "metadata": {
    "collapsed": false
   }
  }
 ],
 "metadata": {
  "kernelspec": {
   "display_name": "Python 3",
   "language": "python",
   "name": "python3"
  },
  "language_info": {
   "codemirror_mode": {
    "name": "ipython",
    "version": 2
   },
   "file_extension": ".py",
   "mimetype": "text/x-python",
   "name": "python",
   "nbconvert_exporter": "python",
   "pygments_lexer": "ipython2",
   "version": "2.7.6"
  }
 },
 "nbformat": 4,
 "nbformat_minor": 0
}
