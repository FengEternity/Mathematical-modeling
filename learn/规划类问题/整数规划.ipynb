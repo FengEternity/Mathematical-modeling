{
 "cells": [
  {
   "cell_type": "code",
   "execution_count": 10,
   "metadata": {
    "collapsed": true
   },
   "outputs": [
    {
     "name": "stdout",
     "output_type": "stream",
     "text": [
      "x= sin(1)\n",
      "x= 0.841470984807897\n",
      "x= 0.8414709848078965\n",
      "pi的两种显示格式：pi，3.142\n",
      "expr1= y*sin(y**2)\n",
      "expr2= y**2 + sin(y)*cos(y) + sin(z)\n",
      "y=5时，expr1= 5*sin(25)\n",
      "y=2,z=3时，expr2= sin(2)*cos(2) + sin(3) + 4\n",
      "y=2,z=3时，expr2= 3.76271876040590\n"
     ]
    }
   ],
   "source": []
  },
  {
   "cell_type": "code",
   "execution_count": null,
   "outputs": [],
   "source": [],
   "metadata": {
    "collapsed": false
   }
  }
 ],
 "metadata": {
  "kernelspec": {
   "display_name": "Python 3",
   "language": "python",
   "name": "python3"
  },
  "language_info": {
   "codemirror_mode": {
    "name": "ipython",
    "version": 2
   },
   "file_extension": ".py",
   "mimetype": "text/x-python",
   "name": "python",
   "nbconvert_exporter": "python",
   "pygments_lexer": "ipython2",
   "version": "2.7.6"
  }
 },
 "nbformat": 4,
 "nbformat_minor": 0
}
