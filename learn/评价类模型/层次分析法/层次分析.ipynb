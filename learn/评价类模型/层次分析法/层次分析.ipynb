{
 "cells": [
  {
   "cell_type": "code",
   "execution_count": 2,
   "outputs": [],
   "source": [
    "import numpy as np"
   ],
   "metadata": {
    "collapsed": false
   }
  },
  {
   "cell_type": "code",
   "execution_count": 3,
   "outputs": [
    {
     "name": "stdout",
     "output_type": "stream",
     "text": [
      "[[8 7 6 8]\n",
      " [7 8 8 7]]\n",
      "[[1.         3.         1.         0.33333333]\n",
      " [0.33333333 1.         0.5        0.2       ]\n",
      " [1.         2.         1.         0.33333333]\n",
      " [3.         5.         3.         1.        ]]\n"
     ]
    }
   ],
   "source": [
    "# 构造矩阵\n",
    "p = np.mat('8 7 6 8;7 8 8 7') #每一行代表一个对象的指标评分\n",
    "print(p)\n",
    "#A为自己构造的输入判别矩阵\n",
    "A = np.array([[1,3,1,1/3],[1/3,1,1/2,1/5],[1,2,1,1/3],[3,5,3,1]])\n",
    "print(A)"
   ],
   "metadata": {
    "collapsed": false
   }
  },
  {
   "cell_type": "code",
   "execution_count": 4,
   "outputs": [
    {
     "name": "stdout",
     "output_type": "stream",
     "text": [
      "4 4\n"
     ]
    }
   ],
   "source": [
    "#查看行数和列数\n",
    "[m,n] = A.shape\n",
    "print(m,n)"
   ],
   "metadata": {
    "collapsed": false
   }
  },
  {
   "cell_type": "code",
   "execution_count": 5,
   "outputs": [
    {
     "name": "stdout",
     "output_type": "stream",
     "text": [
      "特征值：\n",
      "[ 4.03413707e+00+0.j        -1.70685331e-02+0.3707051j\n",
      " -1.70685331e-02-0.3707051j  3.96956267e-17+0.j       ]\n",
      "特征向量：\n",
      "[[-3.40590354e-01+0.j         -3.03369854e-01+0.31051952j\n",
      "  -3.03369854e-01-0.31051952j  1.73785334e-01+0.j        ]\n",
      " [-1.45447924e-01+0.j         -7.87517900e-02-0.16863676j\n",
      "  -7.87517900e-02+0.16863676j -7.77409098e-17+0.j        ]\n",
      " [-3.04536070e-01+0.j          1.40815220e-01+0.07762988j\n",
      "   1.40815220e-01-0.07762988j -4.63427557e-01+0.j        ]\n",
      " [-8.77553926e-01+0.j          8.66630736e-01+0.j\n",
      "   8.66630736e-01-0.j          8.68926670e-01+0.j        ]]\n"
     ]
    }
   ],
   "source": [
    "#求特征值和特征向量\n",
    "V,D = np.linalg.eig(A)\n",
    "print('特征值：')\n",
    "print(V)\n",
    "print('特征向量：')\n",
    "print(D)"
   ],
   "metadata": {
    "collapsed": false
   }
  },
  {
   "cell_type": "code",
   "execution_count": 6,
   "outputs": [
    {
     "name": "stdout",
     "output_type": "stream",
     "text": [
      "(4.034137066247205+0j)\n",
      "[[0.34059035-0.j]\n",
      " [0.14544792-0.j]\n",
      " [0.30453607-0.j]\n",
      " [0.87755393-0.j]]\n"
     ]
    }
   ],
   "source": [
    "#最大特征值\n",
    "tzz = np.max(V)\n",
    "print(tzz)\n",
    "#最大特征向量\n",
    "k=[i for i in range(len(V)) if V[i] == np.max(V)]\n",
    "tzx = -D[:,k]\n",
    "print(tzx)"
   ],
   "metadata": {
    "collapsed": false
   }
  },
  {
   "cell_type": "code",
   "execution_count": 7,
   "outputs": [
    {
     "name": "stdout",
     "output_type": "stream",
     "text": [
      "[[0.20417516]\n",
      " [0.08719229]\n",
      " [0.18256154]\n",
      " [0.52607101]]\n"
     ]
    },
    {
     "name": "stderr",
     "output_type": "stream",
     "text": [
      "C:\\Users\\Monty _L\\AppData\\Local\\Temp\\ipykernel_19788\\2855422392.py:4: ComplexWarning: Casting complex values to real discards the imaginary part\n",
      "  quan[i]=tzx[i]/np.sum(tzx)\n"
     ]
    }
   ],
   "source": [
    "# #赋权重\n",
    "quan=np.zeros((n,1))\n",
    "for i in range(0,n):\n",
    "    quan[i]=tzx[i]/np.sum(tzx)\n",
    "Q=quan\n",
    "print(Q)"
   ],
   "metadata": {
    "collapsed": false
   }
  },
  {
   "cell_type": "code",
   "execution_count": 8,
   "outputs": [
    {
     "name": "stdout",
     "output_type": "stream",
     "text": [
      "通过一致性检验\n",
      "\n"
     ]
    }
   ],
   "source": [
    "#一致性检验\n",
    "CI=(tzz-n)/(n-1)\n",
    "RI=[0,0,0.58,0.9,1.12,1.24,1.32,1.41,1.45,1.49,1.52,1.54,1.56,1.58,1.59]\n",
    "#判断是否通过一致性检验\n",
    "CR=CI/RI[n-1]\n",
    "if CR>=0.1:\n",
    "    print('没有通过一致性检验\\n')\n",
    "else:\n",
    "    print('通过一致性检验\\n')"
   ],
   "metadata": {
    "collapsed": false
   }
  },
  {
   "cell_type": "code",
   "execution_count": 9,
   "outputs": [
    {
     "name": "stdout",
     "output_type": "stream",
     "text": [
      "object_score 0： 7.547684625992974\n",
      "object_score 1： 7.269753832009365\n"
     ]
    }
   ],
   "source": [
    "#显示出所有评分对象的评分值\n",
    "score=p*Q\n",
    "for i in range(len(score)):\n",
    "    print('object_score {}：'.format(i),float(score[i]))"
   ],
   "metadata": {
    "collapsed": false
   }
  },
  {
   "cell_type": "code",
   "execution_count": null,
   "outputs": [],
   "source": [],
   "metadata": {
    "collapsed": false
   }
  }
 ],
 "metadata": {
  "kernelspec": {
   "display_name": "Python 3",
   "language": "python",
   "name": "python3"
  },
  "language_info": {
   "codemirror_mode": {
    "name": "ipython",
    "version": 2
   },
   "file_extension": ".py",
   "mimetype": "text/x-python",
   "name": "python",
   "nbconvert_exporter": "python",
   "pygments_lexer": "ipython2",
   "version": "2.7.6"
  }
 },
 "nbformat": 4,
 "nbformat_minor": 0
}
