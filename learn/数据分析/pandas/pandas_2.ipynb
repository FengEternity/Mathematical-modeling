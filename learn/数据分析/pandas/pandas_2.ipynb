{
 "cells": [
  {
   "cell_type": "markdown",
   "source": [
    "# 目录\n",
    "21. 读取本地的excel数据\n",
    "22. 查看df数据的前五行\n",
    "23. 将salary列数据转换为最大值与最小值的平均值\n",
    "24. 将数据根据学历进行分组冰计算平均薪资\n",
    "25. 将createTime列时间转换为月-日\n",
    "26. 查看索引、数据类型和内存信息\n",
    "27. 查看数据型列的汇总统计\n",
    "28. 新增一列：根据salary将数据分为三组\n",
    "29. 按照salary列对数据进行降序排序\n",
    "30. 取出第4行数据\n",
    "31. 计算salary列的中位数\n",
    "32. 绘制薪资水平频率分布直方图\n",
    "33. 绘制薪资水平密度曲线\n",
    "34. 删除最后一列categories\n",
    "35. 将df的第一列与第二列合并为新的一列\n",
    "36. 将education列与salary列合并为新的一列\n",
    "37. 计算salary最大值与最小值之差\n",
    "38. 将第一行与最后一行拼接\n",
    "39. 将第8行数据添加至末尾\n",
    "40. 查看每列的数据类型\n",
    "41. 将createTime列设置为索引\n",
    "42. 生成一个和df长度相同的随机数dataFrame\n",
    "43. 将上一题生成的dataFrame与df合并\n",
    "44. 生成新的一列new为salary列减去之前生成的随机数列\n",
    "45. 检查数据中是否就按有缺失值\n",
    "46. 将salary列类型转化为浮点数\n",
    "47. 计算salary大于10000的次数\n",
    "48. 查看每种学历出现的次数\n",
    "49. 查看edycation列共有几种学历\n",
    "50. 提取salary与new列的和大于60000的最后3行"
   ],
   "metadata": {
    "collapsed": false
   }
  },
  {
   "cell_type": "code",
   "execution_count": 5,
   "outputs": [],
   "source": [
    "import pandas as pd\n",
    "import numpy as np\n",
    "import matplotlib.pyplot as plt"
   ],
   "metadata": {
    "collapsed": false
   }
  },
  {
   "cell_type": "code",
   "execution_count": 11,
   "outputs": [
    {
     "data": {
      "text/plain": "           createTime education   salary\n0 2020-03-16 11:30:18        本科  20k-35k\n1 2020-03-17 10:58:48        本科  20k-40k\n2 2020-03-18 11:46:39        不限  20k-35k\n3 2020-03-19 11:45:44        本科  13k-20k\n4 2020-03-20 11:20:41        本科  10k-20k\n5 2020-03-21 11:36:07        硕士  25k-50k\n6 2020-03-22 09:54:47        本科  20k-40k\n7 2020-03-23 10:48:32        本科  15k-23k\n8 2020-03-24 10:46:31        硕士  20k-40k\n9 2020-03-25 11:19:38        不限  10k-18k",
      "text/html": "<div>\n<style scoped>\n    .dataframe tbody tr th:only-of-type {\n        vertical-align: middle;\n    }\n\n    .dataframe tbody tr th {\n        vertical-align: top;\n    }\n\n    .dataframe thead th {\n        text-align: right;\n    }\n</style>\n<table border=\"1\" class=\"dataframe\">\n  <thead>\n    <tr style=\"text-align: right;\">\n      <th></th>\n      <th>createTime</th>\n      <th>education</th>\n      <th>salary</th>\n    </tr>\n  </thead>\n  <tbody>\n    <tr>\n      <th>0</th>\n      <td>2020-03-16 11:30:18</td>\n      <td>本科</td>\n      <td>20k-35k</td>\n    </tr>\n    <tr>\n      <th>1</th>\n      <td>2020-03-17 10:58:48</td>\n      <td>本科</td>\n      <td>20k-40k</td>\n    </tr>\n    <tr>\n      <th>2</th>\n      <td>2020-03-18 11:46:39</td>\n      <td>不限</td>\n      <td>20k-35k</td>\n    </tr>\n    <tr>\n      <th>3</th>\n      <td>2020-03-19 11:45:44</td>\n      <td>本科</td>\n      <td>13k-20k</td>\n    </tr>\n    <tr>\n      <th>4</th>\n      <td>2020-03-20 11:20:41</td>\n      <td>本科</td>\n      <td>10k-20k</td>\n    </tr>\n    <tr>\n      <th>5</th>\n      <td>2020-03-21 11:36:07</td>\n      <td>硕士</td>\n      <td>25k-50k</td>\n    </tr>\n    <tr>\n      <th>6</th>\n      <td>2020-03-22 09:54:47</td>\n      <td>本科</td>\n      <td>20k-40k</td>\n    </tr>\n    <tr>\n      <th>7</th>\n      <td>2020-03-23 10:48:32</td>\n      <td>本科</td>\n      <td>15k-23k</td>\n    </tr>\n    <tr>\n      <th>8</th>\n      <td>2020-03-24 10:46:31</td>\n      <td>硕士</td>\n      <td>20k-40k</td>\n    </tr>\n    <tr>\n      <th>9</th>\n      <td>2020-03-25 11:19:38</td>\n      <td>不限</td>\n      <td>10k-18k</td>\n    </tr>\n  </tbody>\n</table>\n</div>"
     },
     "execution_count": 11,
     "metadata": {},
     "output_type": "execute_result"
    }
   ],
   "source": [
    "# 21. 读取本地的excel数据\n",
    "df = pd.read_excel(\"demo2.xlsx\")\n",
    "df"
   ],
   "metadata": {
    "collapsed": false
   }
  },
  {
   "cell_type": "code",
   "execution_count": 13,
   "outputs": [
    {
     "data": {
      "text/plain": "           createTime education   salary\n0 2020-03-16 11:30:18        本科  20k-35k\n1 2020-03-17 10:58:48        本科  20k-40k\n2 2020-03-18 11:46:39        不限  20k-35k\n3 2020-03-19 11:45:44        本科  13k-20k\n4 2020-03-20 11:20:41        本科  10k-20k",
      "text/html": "<div>\n<style scoped>\n    .dataframe tbody tr th:only-of-type {\n        vertical-align: middle;\n    }\n\n    .dataframe tbody tr th {\n        vertical-align: top;\n    }\n\n    .dataframe thead th {\n        text-align: right;\n    }\n</style>\n<table border=\"1\" class=\"dataframe\">\n  <thead>\n    <tr style=\"text-align: right;\">\n      <th></th>\n      <th>createTime</th>\n      <th>education</th>\n      <th>salary</th>\n    </tr>\n  </thead>\n  <tbody>\n    <tr>\n      <th>0</th>\n      <td>2020-03-16 11:30:18</td>\n      <td>本科</td>\n      <td>20k-35k</td>\n    </tr>\n    <tr>\n      <th>1</th>\n      <td>2020-03-17 10:58:48</td>\n      <td>本科</td>\n      <td>20k-40k</td>\n    </tr>\n    <tr>\n      <th>2</th>\n      <td>2020-03-18 11:46:39</td>\n      <td>不限</td>\n      <td>20k-35k</td>\n    </tr>\n    <tr>\n      <th>3</th>\n      <td>2020-03-19 11:45:44</td>\n      <td>本科</td>\n      <td>13k-20k</td>\n    </tr>\n    <tr>\n      <th>4</th>\n      <td>2020-03-20 11:20:41</td>\n      <td>本科</td>\n      <td>10k-20k</td>\n    </tr>\n  </tbody>\n</table>\n</div>"
     },
     "execution_count": 13,
     "metadata": {},
     "output_type": "execute_result"
    }
   ],
   "source": [
    "# 22. 查看df数据的前五行\n",
    "df.head(5)"
   ],
   "metadata": {
    "collapsed": false
   }
  },
  {
   "cell_type": "code",
   "execution_count": 16,
   "outputs": [
    {
     "data": {
      "text/plain": "           createTime education  salary\n0 2020-03-16 11:30:18        本科   27500\n1 2020-03-17 10:58:48        本科   30000\n2 2020-03-18 11:46:39        不限   27500\n3 2020-03-19 11:45:44        本科   16500\n4 2020-03-20 11:20:41        本科   15000\n5 2020-03-21 11:36:07        硕士   37500\n6 2020-03-22 09:54:47        本科   30000\n7 2020-03-23 10:48:32        本科   19000\n8 2020-03-24 10:46:31        硕士   30000\n9 2020-03-25 11:19:38        不限   14000",
      "text/html": "<div>\n<style scoped>\n    .dataframe tbody tr th:only-of-type {\n        vertical-align: middle;\n    }\n\n    .dataframe tbody tr th {\n        vertical-align: top;\n    }\n\n    .dataframe thead th {\n        text-align: right;\n    }\n</style>\n<table border=\"1\" class=\"dataframe\">\n  <thead>\n    <tr style=\"text-align: right;\">\n      <th></th>\n      <th>createTime</th>\n      <th>education</th>\n      <th>salary</th>\n    </tr>\n  </thead>\n  <tbody>\n    <tr>\n      <th>0</th>\n      <td>2020-03-16 11:30:18</td>\n      <td>本科</td>\n      <td>27500</td>\n    </tr>\n    <tr>\n      <th>1</th>\n      <td>2020-03-17 10:58:48</td>\n      <td>本科</td>\n      <td>30000</td>\n    </tr>\n    <tr>\n      <th>2</th>\n      <td>2020-03-18 11:46:39</td>\n      <td>不限</td>\n      <td>27500</td>\n    </tr>\n    <tr>\n      <th>3</th>\n      <td>2020-03-19 11:45:44</td>\n      <td>本科</td>\n      <td>16500</td>\n    </tr>\n    <tr>\n      <th>4</th>\n      <td>2020-03-20 11:20:41</td>\n      <td>本科</td>\n      <td>15000</td>\n    </tr>\n    <tr>\n      <th>5</th>\n      <td>2020-03-21 11:36:07</td>\n      <td>硕士</td>\n      <td>37500</td>\n    </tr>\n    <tr>\n      <th>6</th>\n      <td>2020-03-22 09:54:47</td>\n      <td>本科</td>\n      <td>30000</td>\n    </tr>\n    <tr>\n      <th>7</th>\n      <td>2020-03-23 10:48:32</td>\n      <td>本科</td>\n      <td>19000</td>\n    </tr>\n    <tr>\n      <th>8</th>\n      <td>2020-03-24 10:46:31</td>\n      <td>硕士</td>\n      <td>30000</td>\n    </tr>\n    <tr>\n      <th>9</th>\n      <td>2020-03-25 11:19:38</td>\n      <td>不限</td>\n      <td>14000</td>\n    </tr>\n  </tbody>\n</table>\n</div>"
     },
     "execution_count": 16,
     "metadata": {},
     "output_type": "execute_result"
    }
   ],
   "source": [
    "# 23. 将salary列数据转换为最大值与最小值的平均值\n",
    "import re\n",
    "def func(df):\n",
    "    lst = df['salary'].split('-')\n",
    "    smin = int(lst[0].strip('k'))\n",
    "    smax = int(lst[1].strip('k'))\n",
    "    df['salary'] = int((smin+smax)/2*1000)\n",
    "    return df\n",
    "\n",
    "df = df.apply(func,axis=1)\n",
    "df"
   ],
   "metadata": {
    "collapsed": false
   }
  },
  {
   "cell_type": "code",
   "execution_count": 17,
   "outputs": [
    {
     "name": "stdout",
     "output_type": "stream",
     "text": [
      "            salary\n",
      "education         \n",
      "不限         20750.0\n",
      "本科         23000.0\n",
      "硕士         33750.0\n"
     ]
    }
   ],
   "source": [
    "# 24. 将数据根据学历进行分组冰计算平均薪资\n",
    "print(df.groupby('education').mean())"
   ],
   "metadata": {
    "collapsed": false
   }
  },
  {
   "cell_type": "code",
   "execution_count": 22,
   "outputs": [
    {
     "data": {
      "text/plain": "  createTime education  salary\n0      03-16        本科   27500\n1      03-17        本科   30000\n2      03-18        不限   27500\n3      03-19        本科   16500\n4      03-20        本科   15000",
      "text/html": "<div>\n<style scoped>\n    .dataframe tbody tr th:only-of-type {\n        vertical-align: middle;\n    }\n\n    .dataframe tbody tr th {\n        vertical-align: top;\n    }\n\n    .dataframe thead th {\n        text-align: right;\n    }\n</style>\n<table border=\"1\" class=\"dataframe\">\n  <thead>\n    <tr style=\"text-align: right;\">\n      <th></th>\n      <th>createTime</th>\n      <th>education</th>\n      <th>salary</th>\n    </tr>\n  </thead>\n  <tbody>\n    <tr>\n      <th>0</th>\n      <td>03-16</td>\n      <td>本科</td>\n      <td>27500</td>\n    </tr>\n    <tr>\n      <th>1</th>\n      <td>03-17</td>\n      <td>本科</td>\n      <td>30000</td>\n    </tr>\n    <tr>\n      <th>2</th>\n      <td>03-18</td>\n      <td>不限</td>\n      <td>27500</td>\n    </tr>\n    <tr>\n      <th>3</th>\n      <td>03-19</td>\n      <td>本科</td>\n      <td>16500</td>\n    </tr>\n    <tr>\n      <th>4</th>\n      <td>03-20</td>\n      <td>本科</td>\n      <td>15000</td>\n    </tr>\n  </tbody>\n</table>\n</div>"
     },
     "execution_count": 22,
     "metadata": {},
     "output_type": "execute_result"
    }
   ],
   "source": [
    "# 25. 将createTime列时间转换为月-日\n",
    "for i in range(len(df)):\n",
    "    df.iloc[i,0] = df.iloc[i,0].to_pydatetime().strftime('%m-%d')\n",
    "df.head()"
   ],
   "metadata": {
    "collapsed": false
   }
  },
  {
   "cell_type": "code",
   "execution_count": 23,
   "outputs": [
    {
     "name": "stdout",
     "output_type": "stream",
     "text": [
      "<class 'pandas.core.frame.DataFrame'>\n",
      "RangeIndex: 10 entries, 0 to 9\n",
      "Data columns (total 3 columns):\n",
      " #   Column      Non-Null Count  Dtype \n",
      "---  ------      --------------  ----- \n",
      " 0   createTime  10 non-null     object\n",
      " 1   education   10 non-null     object\n",
      " 2   salary      10 non-null     int64 \n",
      "dtypes: int64(1), object(2)\n",
      "memory usage: 368.0+ bytes\n"
     ]
    }
   ],
   "source": [
    "# 26. 查看索引、数据类型和内存信息\n",
    "\n",
    "df.info()"
   ],
   "metadata": {
    "collapsed": false
   }
  },
  {
   "cell_type": "code",
   "execution_count": 24,
   "outputs": [
    {
     "data": {
      "text/plain": "             salary\ncount     10.000000\nmean   24700.000000\nstd     7972.870667\nmin    14000.000000\n25%    17125.000000\n50%    27500.000000\n75%    30000.000000\nmax    37500.000000",
      "text/html": "<div>\n<style scoped>\n    .dataframe tbody tr th:only-of-type {\n        vertical-align: middle;\n    }\n\n    .dataframe tbody tr th {\n        vertical-align: top;\n    }\n\n    .dataframe thead th {\n        text-align: right;\n    }\n</style>\n<table border=\"1\" class=\"dataframe\">\n  <thead>\n    <tr style=\"text-align: right;\">\n      <th></th>\n      <th>salary</th>\n    </tr>\n  </thead>\n  <tbody>\n    <tr>\n      <th>count</th>\n      <td>10.000000</td>\n    </tr>\n    <tr>\n      <th>mean</th>\n      <td>24700.000000</td>\n    </tr>\n    <tr>\n      <th>std</th>\n      <td>7972.870667</td>\n    </tr>\n    <tr>\n      <th>min</th>\n      <td>14000.000000</td>\n    </tr>\n    <tr>\n      <th>25%</th>\n      <td>17125.000000</td>\n    </tr>\n    <tr>\n      <th>50%</th>\n      <td>27500.000000</td>\n    </tr>\n    <tr>\n      <th>75%</th>\n      <td>30000.000000</td>\n    </tr>\n    <tr>\n      <th>max</th>\n      <td>37500.000000</td>\n    </tr>\n  </tbody>\n</table>\n</div>"
     },
     "execution_count": 24,
     "metadata": {},
     "output_type": "execute_result"
    }
   ],
   "source": [
    "# 27. 查看数据型列的汇总统计\n",
    "df.describe()"
   ],
   "metadata": {
    "collapsed": false
   }
  },
  {
   "cell_type": "code",
   "execution_count": 25,
   "outputs": [
    {
     "data": {
      "text/plain": "  createTime education  salary categories\n0      03-16        本科   27500          高\n1      03-17        本科   30000          高\n2      03-18        不限   27500          高\n3      03-19        本科   16500          中\n4      03-20        本科   15000          中\n5      03-21        硕士   37500          高\n6      03-22        本科   30000          高\n7      03-23        本科   19000          中\n8      03-24        硕士   30000          高\n9      03-25        不限   14000          中",
      "text/html": "<div>\n<style scoped>\n    .dataframe tbody tr th:only-of-type {\n        vertical-align: middle;\n    }\n\n    .dataframe tbody tr th {\n        vertical-align: top;\n    }\n\n    .dataframe thead th {\n        text-align: right;\n    }\n</style>\n<table border=\"1\" class=\"dataframe\">\n  <thead>\n    <tr style=\"text-align: right;\">\n      <th></th>\n      <th>createTime</th>\n      <th>education</th>\n      <th>salary</th>\n      <th>categories</th>\n    </tr>\n  </thead>\n  <tbody>\n    <tr>\n      <th>0</th>\n      <td>03-16</td>\n      <td>本科</td>\n      <td>27500</td>\n      <td>高</td>\n    </tr>\n    <tr>\n      <th>1</th>\n      <td>03-17</td>\n      <td>本科</td>\n      <td>30000</td>\n      <td>高</td>\n    </tr>\n    <tr>\n      <th>2</th>\n      <td>03-18</td>\n      <td>不限</td>\n      <td>27500</td>\n      <td>高</td>\n    </tr>\n    <tr>\n      <th>3</th>\n      <td>03-19</td>\n      <td>本科</td>\n      <td>16500</td>\n      <td>中</td>\n    </tr>\n    <tr>\n      <th>4</th>\n      <td>03-20</td>\n      <td>本科</td>\n      <td>15000</td>\n      <td>中</td>\n    </tr>\n    <tr>\n      <th>5</th>\n      <td>03-21</td>\n      <td>硕士</td>\n      <td>37500</td>\n      <td>高</td>\n    </tr>\n    <tr>\n      <th>6</th>\n      <td>03-22</td>\n      <td>本科</td>\n      <td>30000</td>\n      <td>高</td>\n    </tr>\n    <tr>\n      <th>7</th>\n      <td>03-23</td>\n      <td>本科</td>\n      <td>19000</td>\n      <td>中</td>\n    </tr>\n    <tr>\n      <th>8</th>\n      <td>03-24</td>\n      <td>硕士</td>\n      <td>30000</td>\n      <td>高</td>\n    </tr>\n    <tr>\n      <th>9</th>\n      <td>03-25</td>\n      <td>不限</td>\n      <td>14000</td>\n      <td>中</td>\n    </tr>\n  </tbody>\n</table>\n</div>"
     },
     "execution_count": 25,
     "metadata": {},
     "output_type": "execute_result"
    }
   ],
   "source": [
    "# 28. 新增一列：根据salary将数据分为三组\n",
    "bins = [0,5000,20000,50000]\n",
    "group_names = ['低','中','高']\n",
    "df['categories'] = pd.cut(df['salary'],bins,labels = group_names)\n",
    "df"
   ],
   "metadata": {
    "collapsed": false
   }
  },
  {
   "cell_type": "code",
   "execution_count": 27,
   "outputs": [
    {
     "data": {
      "text/plain": "  createTime education  salary categories\n5      03-21        硕士   37500          高\n1      03-17        本科   30000          高\n6      03-22        本科   30000          高\n8      03-24        硕士   30000          高\n0      03-16        本科   27500          高\n2      03-18        不限   27500          高\n7      03-23        本科   19000          中\n3      03-19        本科   16500          中\n4      03-20        本科   15000          中\n9      03-25        不限   14000          中",
      "text/html": "<div>\n<style scoped>\n    .dataframe tbody tr th:only-of-type {\n        vertical-align: middle;\n    }\n\n    .dataframe tbody tr th {\n        vertical-align: top;\n    }\n\n    .dataframe thead th {\n        text-align: right;\n    }\n</style>\n<table border=\"1\" class=\"dataframe\">\n  <thead>\n    <tr style=\"text-align: right;\">\n      <th></th>\n      <th>createTime</th>\n      <th>education</th>\n      <th>salary</th>\n      <th>categories</th>\n    </tr>\n  </thead>\n  <tbody>\n    <tr>\n      <th>5</th>\n      <td>03-21</td>\n      <td>硕士</td>\n      <td>37500</td>\n      <td>高</td>\n    </tr>\n    <tr>\n      <th>1</th>\n      <td>03-17</td>\n      <td>本科</td>\n      <td>30000</td>\n      <td>高</td>\n    </tr>\n    <tr>\n      <th>6</th>\n      <td>03-22</td>\n      <td>本科</td>\n      <td>30000</td>\n      <td>高</td>\n    </tr>\n    <tr>\n      <th>8</th>\n      <td>03-24</td>\n      <td>硕士</td>\n      <td>30000</td>\n      <td>高</td>\n    </tr>\n    <tr>\n      <th>0</th>\n      <td>03-16</td>\n      <td>本科</td>\n      <td>27500</td>\n      <td>高</td>\n    </tr>\n    <tr>\n      <th>2</th>\n      <td>03-18</td>\n      <td>不限</td>\n      <td>27500</td>\n      <td>高</td>\n    </tr>\n    <tr>\n      <th>7</th>\n      <td>03-23</td>\n      <td>本科</td>\n      <td>19000</td>\n      <td>中</td>\n    </tr>\n    <tr>\n      <th>3</th>\n      <td>03-19</td>\n      <td>本科</td>\n      <td>16500</td>\n      <td>中</td>\n    </tr>\n    <tr>\n      <th>4</th>\n      <td>03-20</td>\n      <td>本科</td>\n      <td>15000</td>\n      <td>中</td>\n    </tr>\n    <tr>\n      <th>9</th>\n      <td>03-25</td>\n      <td>不限</td>\n      <td>14000</td>\n      <td>中</td>\n    </tr>\n  </tbody>\n</table>\n</div>"
     },
     "execution_count": 27,
     "metadata": {},
     "output_type": "execute_result"
    }
   ],
   "source": [
    "# 29. 按照salary列对数据进行降序排序\n",
    "df = df.sort_values('salary',ascending=False)\n",
    "df"
   ],
   "metadata": {
    "collapsed": false
   }
  },
  {
   "cell_type": "code",
   "execution_count": 31,
   "outputs": [
    {
     "data": {
      "text/plain": "createTime    03-19\neducation        本科\nsalary        16500\ncategories        中\nName: 3, dtype: object"
     },
     "execution_count": 31,
     "metadata": {},
     "output_type": "execute_result"
    }
   ],
   "source": [
    "# 30. 取出第4行数据\n",
    "df.loc[3]"
   ],
   "metadata": {
    "collapsed": false
   }
  },
  {
   "cell_type": "code",
   "execution_count": 32,
   "outputs": [
    {
     "data": {
      "text/plain": "24700.0"
     },
     "execution_count": 32,
     "metadata": {},
     "output_type": "execute_result"
    }
   ],
   "source": [
    "# 31. 计算salary列的中位数\n",
    "np.mean(df['salary'])"
   ],
   "metadata": {
    "collapsed": false
   }
  },
  {
   "cell_type": "code",
   "execution_count": 33,
   "outputs": [
    {
     "data": {
      "text/plain": "<AxesSubplot:ylabel='Frequency'>"
     },
     "execution_count": 33,
     "metadata": {},
     "output_type": "execute_result"
    },
    {
     "data": {
      "text/plain": "<Figure size 432x288 with 1 Axes>",
      "image/png": "[encoded data removed]"
     },
     "metadata": {
      "needs_background": "light"
     },
     "output_type": "display_data"
    }
   ],
   "source": [
    "# 32. 绘制薪资水平频率分布直方图\n",
    "df.salary.plot(kind = 'hist')"
   ],
   "metadata": {
    "collapsed": false
   }
  },
  {
   "cell_type": "code",
   "execution_count": 37,
   "outputs": [
    {
     "data": {
      "text/plain": "<AxesSubplot:ylabel='Density'>"
     },
     "execution_count": 37,
     "metadata": {},
     "output_type": "execute_result"
    },
    {
     "data": {
      "text/plain": "<Figure size 432x288 with 1 Axes>",
      "image/png": "[encoded data removed]"
     },
     "metadata": {
      "needs_background": "light"
     },
     "output_type": "display_data"
    }
   ],
   "source": [
    "# 33. 绘制薪资水平密度曲线\n",
    "df.salary.plot(kind = 'kde',xlim = (0,50000))"
   ],
   "metadata": {
    "collapsed": false
   }
  },
  {
   "cell_type": "code",
   "execution_count": 38,
   "outputs": [
    {
     "data": {
      "text/plain": "  createTime education  salary\n5      03-21        硕士   37500\n1      03-17        本科   30000\n6      03-22        本科   30000\n8      03-24        硕士   30000\n0      03-16        本科   27500\n2      03-18        不限   27500\n7      03-23        本科   19000\n3      03-19        本科   16500\n4      03-20        本科   15000\n9      03-25        不限   14000",
      "text/html": "<div>\n<style scoped>\n    .dataframe tbody tr th:only-of-type {\n        vertical-align: middle;\n    }\n\n    .dataframe tbody tr th {\n        vertical-align: top;\n    }\n\n    .dataframe thead th {\n        text-align: right;\n    }\n</style>\n<table border=\"1\" class=\"dataframe\">\n  <thead>\n    <tr style=\"text-align: right;\">\n      <th></th>\n      <th>createTime</th>\n      <th>education</th>\n      <th>salary</th>\n    </tr>\n  </thead>\n  <tbody>\n    <tr>\n      <th>5</th>\n      <td>03-21</td>\n      <td>硕士</td>\n      <td>37500</td>\n    </tr>\n    <tr>\n      <th>1</th>\n      <td>03-17</td>\n      <td>本科</td>\n      <td>30000</td>\n    </tr>\n    <tr>\n      <th>6</th>\n      <td>03-22</td>\n      <td>本科</td>\n      <td>30000</td>\n    </tr>\n    <tr>\n      <th>8</th>\n      <td>03-24</td>\n      <td>硕士</td>\n      <td>30000</td>\n    </tr>\n    <tr>\n      <th>0</th>\n      <td>03-16</td>\n      <td>本科</td>\n      <td>27500</td>\n    </tr>\n    <tr>\n      <th>2</th>\n      <td>03-18</td>\n      <td>不限</td>\n      <td>27500</td>\n    </tr>\n    <tr>\n      <th>7</th>\n      <td>03-23</td>\n      <td>本科</td>\n      <td>19000</td>\n    </tr>\n    <tr>\n      <th>3</th>\n      <td>03-19</td>\n      <td>本科</td>\n      <td>16500</td>\n    </tr>\n    <tr>\n      <th>4</th>\n      <td>03-20</td>\n      <td>本科</td>\n      <td>15000</td>\n    </tr>\n    <tr>\n      <th>9</th>\n      <td>03-25</td>\n      <td>不限</td>\n      <td>14000</td>\n    </tr>\n  </tbody>\n</table>\n</div>"
     },
     "execution_count": 38,
     "metadata": {},
     "output_type": "execute_result"
    }
   ],
   "source": [
    "# 34. 删除最后一列categories\n",
    "del df['categories']\n",
    "df"
   ],
   "metadata": {
    "collapsed": false
   }
  },
  {
   "cell_type": "code",
   "execution_count": 46,
   "outputs": [
    {
     "name": "stdout",
     "output_type": "stream",
     "text": [
      "  createTime education  salary          test\n",
      "5      03-21        硕士   37500  硕士createtime\n",
      "1      03-17        本科   30000  本科createtime\n",
      "6      03-22        本科   30000  本科createtime\n",
      "8      03-24        硕士   30000  硕士createtime\n",
      "0      03-16        本科   27500  本科createtime\n",
      "2      03-18        不限   27500  不限createtime\n",
      "7      03-23        本科   19000  本科createtime\n",
      "3      03-19        本科   16500  本科createtime\n",
      "4      03-20        本科   15000  本科createtime\n",
      "9      03-25        不限   14000  不限createtime\n"
     ]
    }
   ],
   "source": [
    "# 35. 将df的第一列与第二列合并为新的一列\n",
    "df['test'] = df['education'] + ['createtime']\n",
    "print(df)\n",
    "del df['test']"
   ],
   "metadata": {
    "collapsed": false
   }
  },
  {
   "cell_type": "code",
   "execution_count": 47,
   "outputs": [
    {
     "name": "stdout",
     "output_type": "stream",
     "text": [
      "  createTime education  salary    test2\n",
      "5      03-21        硕士   37500  硕士37500\n",
      "1      03-17        本科   30000  本科30000\n",
      "6      03-22        本科   30000  本科30000\n",
      "8      03-24        硕士   30000  硕士30000\n",
      "0      03-16        本科   27500  本科27500\n",
      "2      03-18        不限   27500  不限27500\n",
      "7      03-23        本科   19000  本科19000\n",
      "3      03-19        本科   16500  本科16500\n",
      "4      03-20        本科   15000  本科15000\n",
      "9      03-25        不限   14000  不限14000\n"
     ]
    }
   ],
   "source": [
    "# 36. 将education列与salary列合并为新的一列\n",
    "df['test2'] = df['education'] + df['salary'].map(str)\n",
    "print(df)\n",
    "del df['test2']"
   ],
   "metadata": {
    "collapsed": false
   }
  },
  {
   "cell_type": "code",
   "execution_count": 49,
   "outputs": [
    {
     "data": {
      "text/plain": "salary    23500\ndtype: int64"
     },
     "execution_count": 49,
     "metadata": {},
     "output_type": "execute_result"
    }
   ],
   "source": [
    "# 37. 计算salary最大值与最小值之差\n",
    "df[['salary']].apply(lambda x:x.max()-x.min())"
   ],
   "metadata": {
    "collapsed": false
   }
  },
  {
   "cell_type": "code",
   "execution_count": 51,
   "outputs": [
    {
     "data": {
      "text/plain": "  createTime education  salary\n5      03-21        硕士   37500\n4      03-20        本科   15000",
      "text/html": "<div>\n<style scoped>\n    .dataframe tbody tr th:only-of-type {\n        vertical-align: middle;\n    }\n\n    .dataframe tbody tr th {\n        vertical-align: top;\n    }\n\n    .dataframe thead th {\n        text-align: right;\n    }\n</style>\n<table border=\"1\" class=\"dataframe\">\n  <thead>\n    <tr style=\"text-align: right;\">\n      <th></th>\n      <th>createTime</th>\n      <th>education</th>\n      <th>salary</th>\n    </tr>\n  </thead>\n  <tbody>\n    <tr>\n      <th>5</th>\n      <td>03-21</td>\n      <td>硕士</td>\n      <td>37500</td>\n    </tr>\n    <tr>\n      <th>4</th>\n      <td>03-20</td>\n      <td>本科</td>\n      <td>15000</td>\n    </tr>\n  </tbody>\n</table>\n</div>"
     },
     "execution_count": 51,
     "metadata": {},
     "output_type": "execute_result"
    }
   ],
   "source": [
    "# 38. 将第一行与最后一行拼接\n",
    "pd.concat([df[:1],df[-2:-1]])"
   ],
   "metadata": {
    "collapsed": false
   }
  },
  {
   "cell_type": "code",
   "execution_count": 52,
   "outputs": [
    {
     "name": "stderr",
     "output_type": "stream",
     "text": [
      "C:\\Users\\Monty _L\\AppData\\Local\\Temp\\ipykernel_6204\\1036772663.py:2: FutureWarning: The frame.append method is deprecated and will be removed from pandas in a future version. Use pandas.concat instead.\n",
      "  df.append(df.iloc[7])\n"
     ]
    },
    {
     "data": {
      "text/plain": "  createTime education  salary\n5      03-21        硕士   37500\n1      03-17        本科   30000\n6      03-22        本科   30000\n8      03-24        硕士   30000\n0      03-16        本科   27500\n2      03-18        不限   27500\n7      03-23        本科   19000\n3      03-19        本科   16500\n4      03-20        本科   15000\n9      03-25        不限   14000\n3      03-19        本科   16500",
      "text/html": "<div>\n<style scoped>\n    .dataframe tbody tr th:only-of-type {\n        vertical-align: middle;\n    }\n\n    .dataframe tbody tr th {\n        vertical-align: top;\n    }\n\n    .dataframe thead th {\n        text-align: right;\n    }\n</style>\n<table border=\"1\" class=\"dataframe\">\n  <thead>\n    <tr style=\"text-align: right;\">\n      <th></th>\n      <th>createTime</th>\n      <th>education</th>\n      <th>salary</th>\n    </tr>\n  </thead>\n  <tbody>\n    <tr>\n      <th>5</th>\n      <td>03-21</td>\n      <td>硕士</td>\n      <td>37500</td>\n    </tr>\n    <tr>\n      <th>1</th>\n      <td>03-17</td>\n      <td>本科</td>\n      <td>30000</td>\n    </tr>\n    <tr>\n      <th>6</th>\n      <td>03-22</td>\n      <td>本科</td>\n      <td>30000</td>\n    </tr>\n    <tr>\n      <th>8</th>\n      <td>03-24</td>\n      <td>硕士</td>\n      <td>30000</td>\n    </tr>\n    <tr>\n      <th>0</th>\n      <td>03-16</td>\n      <td>本科</td>\n      <td>27500</td>\n    </tr>\n    <tr>\n      <th>2</th>\n      <td>03-18</td>\n      <td>不限</td>\n      <td>27500</td>\n    </tr>\n    <tr>\n      <th>7</th>\n      <td>03-23</td>\n      <td>本科</td>\n      <td>19000</td>\n    </tr>\n    <tr>\n      <th>3</th>\n      <td>03-19</td>\n      <td>本科</td>\n      <td>16500</td>\n    </tr>\n    <tr>\n      <th>4</th>\n      <td>03-20</td>\n      <td>本科</td>\n      <td>15000</td>\n    </tr>\n    <tr>\n      <th>9</th>\n      <td>03-25</td>\n      <td>不限</td>\n      <td>14000</td>\n    </tr>\n    <tr>\n      <th>3</th>\n      <td>03-19</td>\n      <td>本科</td>\n      <td>16500</td>\n    </tr>\n  </tbody>\n</table>\n</div>"
     },
     "execution_count": 52,
     "metadata": {},
     "output_type": "execute_result"
    }
   ],
   "source": [
    "# 39. 将第8行数据添加至末尾\n",
    "df.append(df.iloc[7])"
   ],
   "metadata": {
    "collapsed": false
   }
  },
  {
   "cell_type": "code",
   "execution_count": 53,
   "outputs": [
    {
     "data": {
      "text/plain": "createTime    object\neducation     object\nsalary         int64\ndtype: object"
     },
     "execution_count": 53,
     "metadata": {},
     "output_type": "execute_result"
    }
   ],
   "source": [
    "# 40. 查看每列的数据类型\n",
    "df.dtypes"
   ],
   "metadata": {
    "collapsed": false
   }
  },
  {
   "cell_type": "code",
   "execution_count": 54,
   "outputs": [
    {
     "data": {
      "text/plain": "           education  salary\ncreateTime                  \n03-21             硕士   37500\n03-17             本科   30000\n03-22             本科   30000\n03-24             硕士   30000\n03-16             本科   27500\n03-18             不限   27500\n03-23             本科   19000\n03-19             本科   16500\n03-20             本科   15000\n03-25             不限   14000",
      "text/html": "<div>\n<style scoped>\n    .dataframe tbody tr th:only-of-type {\n        vertical-align: middle;\n    }\n\n    .dataframe tbody tr th {\n        vertical-align: top;\n    }\n\n    .dataframe thead th {\n        text-align: right;\n    }\n</style>\n<table border=\"1\" class=\"dataframe\">\n  <thead>\n    <tr style=\"text-align: right;\">\n      <th></th>\n      <th>education</th>\n      <th>salary</th>\n    </tr>\n    <tr>\n      <th>createTime</th>\n      <th></th>\n      <th></th>\n    </tr>\n  </thead>\n  <tbody>\n    <tr>\n      <th>03-21</th>\n      <td>硕士</td>\n      <td>37500</td>\n    </tr>\n    <tr>\n      <th>03-17</th>\n      <td>本科</td>\n      <td>30000</td>\n    </tr>\n    <tr>\n      <th>03-22</th>\n      <td>本科</td>\n      <td>30000</td>\n    </tr>\n    <tr>\n      <th>03-24</th>\n      <td>硕士</td>\n      <td>30000</td>\n    </tr>\n    <tr>\n      <th>03-16</th>\n      <td>本科</td>\n      <td>27500</td>\n    </tr>\n    <tr>\n      <th>03-18</th>\n      <td>不限</td>\n      <td>27500</td>\n    </tr>\n    <tr>\n      <th>03-23</th>\n      <td>本科</td>\n      <td>19000</td>\n    </tr>\n    <tr>\n      <th>03-19</th>\n      <td>本科</td>\n      <td>16500</td>\n    </tr>\n    <tr>\n      <th>03-20</th>\n      <td>本科</td>\n      <td>15000</td>\n    </tr>\n    <tr>\n      <th>03-25</th>\n      <td>不限</td>\n      <td>14000</td>\n    </tr>\n  </tbody>\n</table>\n</div>"
     },
     "execution_count": 54,
     "metadata": {},
     "output_type": "execute_result"
    }
   ],
   "source": [
    "# 41. 将createTime列设置为索引\n",
    "df.set_index(\"createTime\")"
   ],
   "metadata": {
    "collapsed": false
   }
  },
  {
   "cell_type": "code",
   "execution_count": 62,
   "outputs": [
    {
     "data": {
      "text/plain": "   0\n0  5\n1  3\n2  8\n3  9\n4  5\n5  1\n6  1\n7  7\n8  6\n9  1",
      "text/html": "<div>\n<style scoped>\n    .dataframe tbody tr th:only-of-type {\n        vertical-align: middle;\n    }\n\n    .dataframe tbody tr th {\n        vertical-align: top;\n    }\n\n    .dataframe thead th {\n        text-align: right;\n    }\n</style>\n<table border=\"1\" class=\"dataframe\">\n  <thead>\n    <tr style=\"text-align: right;\">\n      <th></th>\n      <th>0</th>\n    </tr>\n  </thead>\n  <tbody>\n    <tr>\n      <th>0</th>\n      <td>5</td>\n    </tr>\n    <tr>\n      <th>1</th>\n      <td>3</td>\n    </tr>\n    <tr>\n      <th>2</th>\n      <td>8</td>\n    </tr>\n    <tr>\n      <th>3</th>\n      <td>9</td>\n    </tr>\n    <tr>\n      <th>4</th>\n      <td>5</td>\n    </tr>\n    <tr>\n      <th>5</th>\n      <td>1</td>\n    </tr>\n    <tr>\n      <th>6</th>\n      <td>1</td>\n    </tr>\n    <tr>\n      <th>7</th>\n      <td>7</td>\n    </tr>\n    <tr>\n      <th>8</th>\n      <td>6</td>\n    </tr>\n    <tr>\n      <th>9</th>\n      <td>1</td>\n    </tr>\n  </tbody>\n</table>\n</div>"
     },
     "execution_count": 62,
     "metadata": {},
     "output_type": "execute_result"
    }
   ],
   "source": [
    "# 42. 生成一个和df长度相同的随机数dataFrame\n",
    "df1 = pd.DataFrame(pd.Series(np.random.randint(1,10,len(df['salary']))))\n",
    "df1"
   ],
   "metadata": {
    "collapsed": false
   }
  },
  {
   "cell_type": "code",
   "execution_count": 63,
   "outputs": [
    {
     "data": {
      "text/plain": "  createTime education  salary  0\n5      03-21        硕士   37500  1\n1      03-17        本科   30000  3\n6      03-22        本科   30000  1\n8      03-24        硕士   30000  6\n0      03-16        本科   27500  5\n2      03-18        不限   27500  8\n7      03-23        本科   19000  7\n3      03-19        本科   16500  9\n4      03-20        本科   15000  5\n9      03-25        不限   14000  1",
      "text/html": "<div>\n<style scoped>\n    .dataframe tbody tr th:only-of-type {\n        vertical-align: middle;\n    }\n\n    .dataframe tbody tr th {\n        vertical-align: top;\n    }\n\n    .dataframe thead th {\n        text-align: right;\n    }\n</style>\n<table border=\"1\" class=\"dataframe\">\n  <thead>\n    <tr style=\"text-align: right;\">\n      <th></th>\n      <th>createTime</th>\n      <th>education</th>\n      <th>salary</th>\n      <th>0</th>\n    </tr>\n  </thead>\n  <tbody>\n    <tr>\n      <th>5</th>\n      <td>03-21</td>\n      <td>硕士</td>\n      <td>37500</td>\n      <td>1</td>\n    </tr>\n    <tr>\n      <th>1</th>\n      <td>03-17</td>\n      <td>本科</td>\n      <td>30000</td>\n      <td>3</td>\n    </tr>\n    <tr>\n      <th>6</th>\n      <td>03-22</td>\n      <td>本科</td>\n      <td>30000</td>\n      <td>1</td>\n    </tr>\n    <tr>\n      <th>8</th>\n      <td>03-24</td>\n      <td>硕士</td>\n      <td>30000</td>\n      <td>6</td>\n    </tr>\n    <tr>\n      <th>0</th>\n      <td>03-16</td>\n      <td>本科</td>\n      <td>27500</td>\n      <td>5</td>\n    </tr>\n    <tr>\n      <th>2</th>\n      <td>03-18</td>\n      <td>不限</td>\n      <td>27500</td>\n      <td>8</td>\n    </tr>\n    <tr>\n      <th>7</th>\n      <td>03-23</td>\n      <td>本科</td>\n      <td>19000</td>\n      <td>7</td>\n    </tr>\n    <tr>\n      <th>3</th>\n      <td>03-19</td>\n      <td>本科</td>\n      <td>16500</td>\n      <td>9</td>\n    </tr>\n    <tr>\n      <th>4</th>\n      <td>03-20</td>\n      <td>本科</td>\n      <td>15000</td>\n      <td>5</td>\n    </tr>\n    <tr>\n      <th>9</th>\n      <td>03-25</td>\n      <td>不限</td>\n      <td>14000</td>\n      <td>1</td>\n    </tr>\n  </tbody>\n</table>\n</div>"
     },
     "execution_count": 63,
     "metadata": {},
     "output_type": "execute_result"
    }
   ],
   "source": [
    "# 43. 将上一题生成的dataFrame与df合并\n",
    "df = pd.concat([df,df1],axis=1)\n",
    "df"
   ],
   "metadata": {
    "collapsed": false
   }
  },
  {
   "cell_type": "code",
   "execution_count": 67,
   "outputs": [
    {
     "data": {
      "text/plain": "  createTime education  salary  0    new\n5      03-21        硕士   37500  1  37499\n1      03-17        本科   30000  3  29997\n6      03-22        本科   30000  1  29999\n8      03-24        硕士   30000  6  29994\n0      03-16        本科   27500  5  27495\n2      03-18        不限   27500  8  27492\n7      03-23        本科   19000  7  18993\n3      03-19        本科   16500  9  16491\n4      03-20        本科   15000  5  14995\n9      03-25        不限   14000  1  13999",
      "text/html": "<div>\n<style scoped>\n    .dataframe tbody tr th:only-of-type {\n        vertical-align: middle;\n    }\n\n    .dataframe tbody tr th {\n        vertical-align: top;\n    }\n\n    .dataframe thead th {\n        text-align: right;\n    }\n</style>\n<table border=\"1\" class=\"dataframe\">\n  <thead>\n    <tr style=\"text-align: right;\">\n      <th></th>\n      <th>createTime</th>\n      <th>education</th>\n      <th>salary</th>\n      <th>0</th>\n      <th>new</th>\n    </tr>\n  </thead>\n  <tbody>\n    <tr>\n      <th>5</th>\n      <td>03-21</td>\n      <td>硕士</td>\n      <td>37500</td>\n      <td>1</td>\n      <td>37499</td>\n    </tr>\n    <tr>\n      <th>1</th>\n      <td>03-17</td>\n      <td>本科</td>\n      <td>30000</td>\n      <td>3</td>\n      <td>29997</td>\n    </tr>\n    <tr>\n      <th>6</th>\n      <td>03-22</td>\n      <td>本科</td>\n      <td>30000</td>\n      <td>1</td>\n      <td>29999</td>\n    </tr>\n    <tr>\n      <th>8</th>\n      <td>03-24</td>\n      <td>硕士</td>\n      <td>30000</td>\n      <td>6</td>\n      <td>29994</td>\n    </tr>\n    <tr>\n      <th>0</th>\n      <td>03-16</td>\n      <td>本科</td>\n      <td>27500</td>\n      <td>5</td>\n      <td>27495</td>\n    </tr>\n    <tr>\n      <th>2</th>\n      <td>03-18</td>\n      <td>不限</td>\n      <td>27500</td>\n      <td>8</td>\n      <td>27492</td>\n    </tr>\n    <tr>\n      <th>7</th>\n      <td>03-23</td>\n      <td>本科</td>\n      <td>19000</td>\n      <td>7</td>\n      <td>18993</td>\n    </tr>\n    <tr>\n      <th>3</th>\n      <td>03-19</td>\n      <td>本科</td>\n      <td>16500</td>\n      <td>9</td>\n      <td>16491</td>\n    </tr>\n    <tr>\n      <th>4</th>\n      <td>03-20</td>\n      <td>本科</td>\n      <td>15000</td>\n      <td>5</td>\n      <td>14995</td>\n    </tr>\n    <tr>\n      <th>9</th>\n      <td>03-25</td>\n      <td>不限</td>\n      <td>14000</td>\n      <td>1</td>\n      <td>13999</td>\n    </tr>\n  </tbody>\n</table>\n</div>"
     },
     "execution_count": 67,
     "metadata": {},
     "output_type": "execute_result"
    }
   ],
   "source": [
    "# 44. 生成新的一列new为salary列减去之前生成的随机数列\n",
    "df['new'] = df['salary']-df[0]\n",
    "df"
   ],
   "metadata": {
    "collapsed": false
   }
  },
  {
   "cell_type": "code",
   "execution_count": 68,
   "outputs": [
    {
     "data": {
      "text/plain": "False"
     },
     "execution_count": 68,
     "metadata": {},
     "output_type": "execute_result"
    }
   ],
   "source": [
    "# 45. 检查数据中是否就按有缺失值\n",
    "df.isnull().values.any()"
   ],
   "metadata": {
    "collapsed": false
   }
  },
  {
   "cell_type": "code",
   "execution_count": 69,
   "outputs": [
    {
     "data": {
      "text/plain": "5    37500.0\n1    30000.0\n6    30000.0\n8    30000.0\n0    27500.0\n2    27500.0\n7    19000.0\n3    16500.0\n4    15000.0\n9    14000.0\nName: salary, dtype: float64"
     },
     "execution_count": 69,
     "metadata": {},
     "output_type": "execute_result"
    }
   ],
   "source": [
    "# 46. 将salary列类型转化为浮点数\n",
    "df['salary'].astype(np.float64)"
   ],
   "metadata": {
    "collapsed": false
   }
  },
  {
   "cell_type": "code",
   "execution_count": 70,
   "outputs": [
    {
     "data": {
      "text/plain": "10"
     },
     "execution_count": 70,
     "metadata": {},
     "output_type": "execute_result"
    }
   ],
   "source": [
    "# 47. 计算salary大于10000的次数\n",
    "len(df[df['salary']>10000])"
   ],
   "metadata": {
    "collapsed": false
   }
  },
  {
   "cell_type": "code",
   "execution_count": 71,
   "outputs": [
    {
     "data": {
      "text/plain": "本科    6\n硕士    2\n不限    2\nName: education, dtype: int64"
     },
     "execution_count": 71,
     "metadata": {},
     "output_type": "execute_result"
    }
   ],
   "source": [
    "# 48. 查看每种学历出现的次数\n",
    "df.education.value_counts()"
   ],
   "metadata": {
    "collapsed": false
   }
  },
  {
   "cell_type": "code",
   "execution_count": 73,
   "outputs": [
    {
     "data": {
      "text/plain": "3"
     },
     "execution_count": 73,
     "metadata": {},
     "output_type": "execute_result"
    }
   ],
   "source": [
    "# 49. 查看edycation列共有几种学历\n",
    "df['education'].nunique()"
   ],
   "metadata": {
    "collapsed": false
   }
  },
  {
   "cell_type": "code",
   "execution_count": 74,
   "outputs": [
    {
     "data": {
      "text/plain": "  createTime education  salary  0    new\n5      03-21        硕士   37500  1  37499",
      "text/html": "<div>\n<style scoped>\n    .dataframe tbody tr th:only-of-type {\n        vertical-align: middle;\n    }\n\n    .dataframe tbody tr th {\n        vertical-align: top;\n    }\n\n    .dataframe thead th {\n        text-align: right;\n    }\n</style>\n<table border=\"1\" class=\"dataframe\">\n  <thead>\n    <tr style=\"text-align: right;\">\n      <th></th>\n      <th>createTime</th>\n      <th>education</th>\n      <th>salary</th>\n      <th>0</th>\n      <th>new</th>\n    </tr>\n  </thead>\n  <tbody>\n    <tr>\n      <th>5</th>\n      <td>03-21</td>\n      <td>硕士</td>\n      <td>37500</td>\n      <td>1</td>\n      <td>37499</td>\n    </tr>\n  </tbody>\n</table>\n</div>"
     },
     "execution_count": 74,
     "metadata": {},
     "output_type": "execute_result"
    }
   ],
   "source": [
    "# 50. 提取salary与new列的和大于60000的最后3行\n",
    "df1 = df[['salary','new']]\n",
    "rowsums = df1.apply(np.sum,axis = 1)\n",
    "res = df.iloc[np.where(rowsums > 60000)[0][-3:],:]\n",
    "res"
   ],
   "metadata": {
    "collapsed": false
   }
  }
 ],
 "metadata": {
  "kernelspec": {
   "display_name": "Python 3",
   "language": "python",
   "name": "python3"
  },
  "language_info": {
   "codemirror_mode": {
    "name": "ipython",
    "version": 2
   },
   "file_extension": ".py",
   "mimetype": "text/x-python",
   "name": "python",
   "nbconvert_exporter": "python",
   "pygments_lexer": "ipython2",
   "version": "2.7.6"
  }
 },
 "nbformat": 4,
 "nbformat_minor": 0
}
