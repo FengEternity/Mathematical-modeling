{
 "cells": [
  {
   "cell_type": "code",
   "execution_count": 1,
   "metadata": {
    "collapsed": true
   },
   "outputs": [
    {
     "name": "stdout",
     "output_type": "stream",
     "text": [
      "x= sin(1)\n",
      "x= 0.841470984807897\n",
      "x= 0.8414709848078965\n",
      "pi的两种显示格式：pi，3.142\n",
      "expr1= y*sin(y**2)\n",
      "expr2= y**2 + sin(y)*cos(y) + sin(z)\n",
      "y=5时，expr1= 5*sin(25)\n",
      "y=2,z=3时，expr2= sin(2)*cos(2) + sin(3) + 4\n",
      "y=2,z=3时，expr2= 3.76271876040590\n"
     ]
    }
   ],
   "source": [
    "# 符号运算基本知识\n",
    "\n",
    "from sympy import *\n",
    "\n",
    "x = symbols('x')\n",
    "y,z = symbols('y z')\n",
    "m0,m1,m2,m3 = symbols('m0:4')\n",
    "x = sin(1)\n",
    "\n",
    "print(\"x=\",x)\n",
    "print(\"x=\",x.evalf())\n",
    "print(\"x=\",x.n(16)) # 显示小数点后16位\n",
    "print(f\"pi的两种显示格式：{pi}，{pi.evalf(4)}\")\n",
    "\n",
    "expr1 = y*sin(y**2) # 创建第一个符号表达式\n",
    "expr2 = y**2+sin(y)*cos(y)+sin(z)\n",
    "\n",
    "print(\"expr1=\",expr1)\n",
    "print(\"expr2=\",expr2)\n",
    "print(\"y=5时，expr1=\",expr1.subs(y,5))\n",
    "print(\"y=2,z=3时，expr2=\",expr2.subs({y:2,z:3}))\n",
    "print(\"y=2,z=3时，expr2=\",expr2.subs({y:2,z:3}).n())"
   ]
  },
  {
   "cell_type": "code",
   "execution_count": 6,
   "outputs": [
    {
     "name": "stdout",
     "output_type": "stream",
     "text": [
      "m1/m2 + m3/m4\n",
      "(m1*m4 + m2*m3)/(m2*m4)\n",
      "(2*x**2 + 3*x + 4)/(x + 1)\n",
      "(2*x**2 + 3*x + 4)/(x + 1)\n",
      "2*x + 1 + 3/(x + 1)\n"
     ]
    }
   ],
   "source": [
    "# together()及apart()使用示例\n",
    "\n",
    "from sympy import *\n",
    "\n",
    "x1,x2,x3,x4 = symbols('m1:5')\n",
    "x = symbols('x')\n",
    "print(x1/x2+x3/x4)\n",
    "print(together(x1/x2+x3/x4))\n",
    "print((2*x**2+3*x+4)/(x+1))\n",
    "print(simplify((2*x**2+3*x+4)/(x+1)))\n",
    "print(apart((2*x**2+3*x+4)/(x+1)))"
   ],
   "metadata": {
    "collapsed": false
   }
  }
 ],
 "metadata": {
  "kernelspec": {
   "display_name": "Python 3",
   "language": "python",
   "name": "python3"
  },
  "language_info": {
   "codemirror_mode": {
    "name": "ipython",
    "version": 2
   },
   "file_extension": ".py",
   "mimetype": "text/x-python",
   "name": "python",
   "nbconvert_exporter": "python",
   "pygments_lexer": "ipython2",
   "version": "2.7.6"
  }
 },
 "nbformat": 4,
 "nbformat_minor": 0
}
