{
 "cells": [
  {
   "cell_type": "code",
   "execution_count": 2,
   "metadata": {
    "collapsed": true
   },
   "outputs": [],
   "source": [
    "# 数据清洗二：获取 csv 格式中有用的数据\n",
    "import pandas as pd\n",
    "df = pd.read_csv('8 50%随机.csv')\n",
    "del df['2']"
   ]
  },
  {
   "cell_type": "code",
   "execution_count": 6,
   "outputs": [
    {
     "data": {
      "text/plain": "        2808           0\n0          G   72.000000\n1          Q   39.000000\n2          Y  500.000000\n3          T    0.112275\n4          L    0.449102\n..       ...         ...\n360  V( 176)    8.000000\n361  V( 177)    8.000000\n362  V( 178)    4.000000\n363  V( 179)    8.000000\n364  V( 180)    4.000000\n\n[224 rows x 2 columns]",
      "text/html": "<div>\n<style scoped>\n    .dataframe tbody tr th:only-of-type {\n        vertical-align: middle;\n    }\n\n    .dataframe tbody tr th {\n        vertical-align: top;\n    }\n\n    .dataframe thead th {\n        text-align: right;\n    }\n</style>\n<table border=\"1\" class=\"dataframe\">\n  <thead>\n    <tr style=\"text-align: right;\">\n      <th></th>\n      <th>2808</th>\n      <th>0</th>\n    </tr>\n  </thead>\n  <tbody>\n    <tr>\n      <th>0</th>\n      <td>G</td>\n      <td>72.000000</td>\n    </tr>\n    <tr>\n      <th>1</th>\n      <td>Q</td>\n      <td>39.000000</td>\n    </tr>\n    <tr>\n      <th>2</th>\n      <td>Y</td>\n      <td>500.000000</td>\n    </tr>\n    <tr>\n      <th>3</th>\n      <td>T</td>\n      <td>0.112275</td>\n    </tr>\n    <tr>\n      <th>4</th>\n      <td>L</td>\n      <td>0.449102</td>\n    </tr>\n    <tr>\n      <th>...</th>\n      <td>...</td>\n      <td>...</td>\n    </tr>\n    <tr>\n      <th>360</th>\n      <td>V( 176)</td>\n      <td>8.000000</td>\n    </tr>\n    <tr>\n      <th>361</th>\n      <td>V( 177)</td>\n      <td>8.000000</td>\n    </tr>\n    <tr>\n      <th>362</th>\n      <td>V( 178)</td>\n      <td>4.000000</td>\n    </tr>\n    <tr>\n      <th>363</th>\n      <td>V( 179)</td>\n      <td>8.000000</td>\n    </tr>\n    <tr>\n      <th>364</th>\n      <td>V( 180)</td>\n      <td>4.000000</td>\n    </tr>\n  </tbody>\n</table>\n<p>224 rows × 2 columns</p>\n</div>"
     },
     "execution_count": 6,
     "metadata": {},
     "output_type": "execute_result"
    }
   ],
   "source": [
    "df[df[\"0\"] != 0.000000]"
   ],
   "metadata": {
    "collapsed": false
   }
  },
  {
   "cell_type": "code",
   "execution_count": 7,
   "outputs": [
    {
     "name": "stdout",
     "output_type": "stream",
     "text": [
      "3,6.000000\n",
      "\n",
      "7,6.000000\n",
      "\n",
      "18,6.000000\n",
      "\n",
      "24,6.000000\n",
      "\n",
      "27,6.000000\n",
      "\n",
      "32,6.000000\n",
      "\n",
      "37,6.000000\n",
      "\n",
      "41,6.000000\n",
      "\n",
      "49,6.000000\n",
      "\n",
      "55,6.000000\n",
      "\n",
      "60,6.000000\n",
      "\n",
      "63,6.000000\n",
      "\n",
      "72,6.000000\n",
      "\n",
      "76,6.000000\n",
      "\n",
      "79,6.000000\n",
      "\n",
      "84,6.0\n",
      "\n",
      "88,6.0\n",
      "\n",
      "92,6.0\n",
      "\n",
      "101,6.0\n",
      "\n",
      "108,6.0\n",
      "\n",
      "113,6.0\n",
      "\n",
      "115,6.0\n",
      "\n",
      "118,6.0\n",
      "\n",
      "121,6.0\n",
      "\n",
      "126,6.0\n",
      "\n",
      "129,6.0\n",
      "\n",
      "135,6.0\n",
      "\n",
      "138,6.0\n",
      "\n",
      "140,6.0\n",
      "\n",
      "143,6.0\n",
      "\n",
      "146,6.0\n",
      "\n",
      "148,6.0\n",
      "\n",
      "151,6.0\n",
      "\n",
      "154,6.0\n",
      "\n",
      "164,6.0\n",
      "\n",
      "169,6.0\n",
      "\n",
      "174,6.0\n",
      "\n",
      "177,6.0\n",
      "\n",
      "180,6.0\n"
     ]
    }
   ],
   "source": [
    "with open('K.csv','r+') as f:\n",
    "    for line in f:\n",
    "        line = line.replace('K( ','')\n",
    "        line = line.replace(')','')\n",
    "        print(line)"
   ],
   "metadata": {
    "collapsed": false
   }
  },
  {
   "cell_type": "code",
   "execution_count": 20,
   "outputs": [
    {
     "data": {
      "text/plain": "<Figure size 560x320 with 1 Axes>",
      "image/png": "[encoded data removed]"
     },
     "metadata": {
      "needs_background": "light"
     },
     "output_type": "display_data"
    }
   ],
   "source": [
    "import matplotlib.pyplot as plt\n",
    "import pandas as pd\n",
    "\n",
    "data = pd.read_csv('8占比与总数关系')\n",
    "fig = plt.figure(figsize=(7, 4), dpi=80)\n",
    "ax = fig.add_axes([0.8,0.8,1,1])\n",
    "ax.grid(True)\n",
    "x = data['proportion']\n",
    "y = data['total']\n",
    "\n",
    "line = ax.plot(x, y,'bs-')\n",
    "\n",
    "# for x1, y1 in zip(x, y):\n",
    "#     plt.text(x1, y1, str(y1), ha='center', va='bottom', fontsize=10)\n",
    "ax.set_xlabel('proportion')\n",
    "ax.set_ylabel('total')\n",
    "\n",
    "plt.show()"
   ],
   "metadata": {
    "collapsed": false
   }
  },
  {
   "cell_type": "code",
   "execution_count": 25,
   "outputs": [
    {
     "data": {
      "text/plain": "<Figure size 720x480 with 0 Axes>"
     },
     "metadata": {},
     "output_type": "display_data"
    }
   ],
   "source": [
    "import seaborn as sns\n",
    "import numpy as np\n",
    "import matplotlib.pyplot as plt\n",
    "np.random.seed(0)\n",
    "x = data['total']\n",
    "plt.figure(dpi=120)\n",
    "\n",
    "plt.show()"
   ],
   "metadata": {
    "collapsed": false
   }
  }
 ],
 "metadata": {
  "kernelspec": {
   "display_name": "Python 3",
   "language": "python",
   "name": "python3"
  },
  "language_info": {
   "codemirror_mode": {
    "name": "ipython",
    "version": 2
   },
   "file_extension": ".py",
   "mimetype": "text/x-python",
   "name": "python",
   "nbconvert_exporter": "python",
   "pygments_lexer": "ipython2",
   "version": "2.7.6"
  }
 },
 "nbformat": 4,
 "nbformat_minor": 0
}
