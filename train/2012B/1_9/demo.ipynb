{
 "cells": [
  {
   "cell_type": "code",
   "execution_count": 5,
   "metadata": {
    "collapsed": true
   },
   "outputs": [],
   "source": [
    "import numpy as np\n",
    "from scipy.optimize import minimize\n"
   ]
  },
  {
   "cell_type": "code",
   "execution_count": 6,
   "outputs": [],
   "source": [
    "# 定义目标函数\n",
    "def objective(x):\n",
    "    return x[0] ** 2 + x[1] ** 2 + x[2] ** 2 + 8\n",
    "\n",
    "# 定义约束条件\n",
    "def constraint1(x):\n",
    "    return x[0] ** 2 - x[1] + x[2] ** 2  # 不等约束\n",
    "\n",
    "def constraint2(x):\n",
    "    return -(x[0] + x[1] ** 2 + x[2] ** 2 - 20)  # 不等约束\n",
    "\n",
    "def constraint3(x):\n",
    "    return -x[0] - x[1] ** 2 + 2  # 等式约束\n",
    "\n",
    "def constraint4(x):\n",
    "    return x[1] + 2 * x[2] ** 2 - 3  # 等式约束\n"
   ],
   "metadata": {
    "collapsed": false
   }
  },
  {
   "cell_type": "code",
   "execution_count": 7,
   "outputs": [],
   "source": [
    "con1 = {'type': 'ineq', 'fun': constraint1}\n",
    "con2 = {'type': 'ineq', 'fun': constraint2}\n",
    "con3 = {'type': 'eq', 'fun': constraint3}\n",
    "con4 = {'type': 'eq', 'fun': constraint4}\n",
    "\n",
    "# 4个约束条件\n",
    "cons = ([con1, con2, con3, con4])\n",
    "\n",
    "# 决策变量的符号约束\n",
    "b = (0.0, None)  # 即决策变量的取值范围为大于等于0\n",
    "bnds = (b, b, b)\n"
   ],
   "metadata": {
    "collapsed": false
   }
  },
  {
   "cell_type": "code",
   "execution_count": 8,
   "outputs": [
    {
     "data": {
      "text/plain": "     fun: 10.651091840572583\n     jac: array([1.10433471, 2.40651834, 1.89564812])\n message: 'Optimization terminated successfully'\n    nfev: 71\n     nit: 15\n    njev: 15\n  status: 0\n success: True\n       x: array([0.55216734, 1.20325918, 0.94782404])"
     },
     "execution_count": 8,
     "metadata": {},
     "output_type": "execute_result"
    }
   ],
   "source": [
    "x0 = np.array([0, 0, 0])  # 定义初始值\n",
    "solution = minimize(objective, x0, method='SLSQP', bounds=bnds, constraints=cons)\n"
   ],
   "metadata": {
    "collapsed": false
   }
  },
  {
   "cell_type": "code",
   "execution_count": 9,
   "outputs": [
    {
     "name": "stdout",
     "output_type": "stream",
     "text": [
      "目标值: 10.651091840572583\n",
      "最优解为\n",
      "x1 = 0.55\n",
      "x2 = 1.2\n",
      "x3 = 0.95\n"
     ]
    },
    {
     "data": {
      "text/plain": "     fun: 10.651091840572583\n     jac: array([1.10433471, 2.40651834, 1.89564812])\n message: 'Optimization terminated successfully'\n    nfev: 71\n     nit: 15\n    njev: 15\n  status: 0\n success: True\n       x: array([0.55216734, 1.20325918, 0.94782404])"
     },
     "execution_count": 9,
     "metadata": {},
     "output_type": "execute_result"
    }
   ],
   "source": [
    "x = solution.x\n",
    "print('目标值: ' + str(objective(x)))\n",
    "print('最优解为')\n",
    "print('x1 = ' + str(round(x[0], 2)))\n",
    "print('x2 = ' + str(round(x[1], 2)))\n",
    "print('x3 = ' + str(round(x[2], 2)))\n",
    "solution\n"
   ],
   "metadata": {
    "collapsed": false
   }
  },
  {
   "cell_type": "code",
   "execution_count": null,
   "outputs": [],
   "source": [],
   "metadata": {
    "collapsed": false
   }
  }
 ],
 "metadata": {
  "kernelspec": {
   "display_name": "Python 3",
   "language": "python",
   "name": "python3"
  },
  "language_info": {
   "codemirror_mode": {
    "name": "ipython",
    "version": 2
   },
   "file_extension": ".py",
   "mimetype": "text/x-python",
   "name": "python",
   "nbconvert_exporter": "python",
   "pygments_lexer": "ipython2",
   "version": "2.7.6"
  }
 },
 "nbformat": 4,
 "nbformat_minor": 0
}
