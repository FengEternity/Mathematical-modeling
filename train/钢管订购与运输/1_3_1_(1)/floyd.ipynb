{
 "cells": [
  {
   "cell_type": "code",
   "execution_count": null,
   "metadata": {
    "collapsed": true,
    "pycharm": {
     "is_executing": true
    }
   },
   "outputs": [],
   "source": [
    "import sys\n",
    "\n",
    "sys.setrecursionlimit(100000000)\n",
    "\n",
    "# 弗洛伊德算法\n",
    "def floyd():\n",
    "    n = len(graph)\n",
    "    for k in range(n):\n",
    "        for i in range(n):\n",
    "            for j in range(n):\n",
    "                if graph[i][k] + graph[k][j] < graph[i][j]:\n",
    "                    graph[i][j] = graph[i][k] + graph[k][j]\n",
    "                    parents[i][j] = parents[k][j]  # 更新父结点\n",
    "\n",
    "\n",
    "# 打印路径\n",
    "def print_path(i, j):\n",
    "    if i != j:\n",
    "        print_path(i, parents[i][j])\n",
    "    print(j, end='-->')\n",
    "\n",
    "# Data [u, v, cost]\n",
    "datas = [\n",
    "    [0, 1, 2],\n",
    "    [0, 2, 6],\n",
    "    [0, 3, 4],\n",
    "    [1, 2, 3],\n",
    "    [2, 0, 7],\n",
    "    [2, 3, 1],\n",
    "    [3, 0, 5],\n",
    "    [3, 2, 12],\n",
    "]\n",
    "\n",
    "n = 4\n",
    "\n",
    "# 无穷大\n",
    "inf = 9999999999\n",
    "\n",
    "# 构图\n",
    "graph = [[(lambda x: 0 if x[0] == x[1] else inf)([i, j]) for j in range(n)] for i in range(n)]\n",
    "parents = [[i] * n for i in range(4)]  # 关键地方，i-->j 的父结点初始化都为i\n",
    "for u, v, c in datas:\n",
    "    graph[u][v] = c\t# 因为是有向图，边权只赋给graph[u][v]\n",
    "    #graph[v][u] = c # 如果是无向图，要加上这条。\n",
    "\n",
    "floyd()\n",
    "\n",
    "print('Costs:')\n",
    "for row in graph:\n",
    "    for e in row:\n",
    "        print('∞' if e == inf else e, end='\\t')\n",
    "    print()\n",
    "\n",
    "print('\\nPath:')\n",
    "for i in range(n):\n",
    "    for j in range(n):\n",
    "        print('Path({}-->{}): '.format(i, j), end='')\n",
    "        print_path(i, j)\n",
    "        print(' cost:', graph[i][j])"
   ]
  },
  {
   "cell_type": "code",
   "execution_count": null,
   "outputs": [],
   "source": [],
   "metadata": {
    "collapsed": false
   }
  }
 ],
 "metadata": {
  "kernelspec": {
   "display_name": "Python 3",
   "language": "python",
   "name": "python3"
  },
  "language_info": {
   "codemirror_mode": {
    "name": "ipython",
    "version": 2
   },
   "file_extension": ".py",
   "mimetype": "text/x-python",
   "name": "python",
   "nbconvert_exporter": "python",
   "pygments_lexer": "ipython2",
   "version": "2.7.6"
  }
 },
 "nbformat": 4,
 "nbformat_minor": 0
}
